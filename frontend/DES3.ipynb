{
 "cells": [
  {
   "cell_type": "markdown",
   "id": "7d4c1810",
   "metadata": {},
   "source": [
    "<br>\n",
    "<h1 align = \"center\">DES3 CBC</h1>\n",
    "<br>"
   ]
  },
  {
   "cell_type": "code",
   "execution_count": 14,
   "id": "27579615",
   "metadata": {},
   "outputs": [],
   "source": [
    "from Crypto.Cipher import DES3\n",
    "from Crypto.Util.Padding import pad, unpad\n",
    "from base64 import b64encode, b64decode\n",
    "from json import dumps, loads\n",
    "\n",
    "def des3_encrypt_cbc(data: str, key: str) -> str:\n",
    "    key = DES3.adjust_key_parity(key)\n",
    "    cipher = DES3.new(key, DES3.MODE_CBC)\n",
    "    cipher_bytes = cipher.encrypt(pad(data, DES3.block_size))\n",
    "    init_vector = b64encode(cipher.iv).decode('utf-8')\n",
    "    cipher_text = b64encode(cipher_bytes).decode('utf-8')\n",
    "    encrypted = dumps({'init_vector':init_vector, 'ciphertext':cipher_text})\n",
    "    return encrypted\n",
    "\n",
    "def des3_decrypt_cbc(encrypted: str, key: str) -> str:\n",
    "    key = DES3.adjust_key_parity(key)\n",
    "    b64 = loads(encrypted)\n",
    "    init_vector = b64decode(b64['init_vector'])\n",
    "    cipher_text = b64decode(b64['ciphertext'])\n",
    "    cipher = DES3.new(key, DES3.MODE_CBC, init_vector)\n",
    "    plaintext = unpad(cipher.decrypt(cipher_text), DES3.block_size)\n",
    "    return plaintext"
   ]
  },
  {
   "cell_type": "code",
   "execution_count": 15,
   "id": "bf9d578f",
   "metadata": {},
   "outputs": [],
   "source": [
    "key = b'hello123abcde123hello123'# or use bytes keyword or encode using str.encode('ascii')\n",
    "plaintext = b'Python is the Best Language!'"
   ]
  },
  {
   "cell_type": "code",
   "execution_count": 16,
   "id": "7bc31497",
   "metadata": {},
   "outputs": [
    {
     "data": {
      "text/plain": [
       "'{\"init_vector\": \"p/A7yiKCdJo=\", \"ciphertext\": \"se68Ly0uuH9m/WuNnEEic0gEmD3j4h2rLMEo+m2lXyo=\"}'"
      ]
     },
     "execution_count": 16,
     "metadata": {},
     "output_type": "execute_result"
    }
   ],
   "source": [
    "#from Crypto.Random import get_random_bytes\n",
    "#key168 = DES3.adjust_key_parity(get_random_bytes(24))#can become an issue\n",
    "des3_encryption = des3_encrypt_cbc(plaintext, key)\n",
    "des3_encryption"
   ]
  },
  {
   "cell_type": "code",
   "execution_count": 18,
   "id": "8019f7c8",
   "metadata": {},
   "outputs": [
    {
     "data": {
      "text/plain": [
       "b'Python is the Best Language!'"
      ]
     },
     "execution_count": 18,
     "metadata": {},
     "output_type": "execute_result"
    }
   ],
   "source": [
    "des3_decrypt_cbc(des3_encryption, key)"
   ]
  },
  {
   "cell_type": "markdown",
   "id": "2e0ae965",
   "metadata": {},
   "source": [
    "<br>\n",
    "<h1 align = \"center\">DES3 - ECB</h1>\n",
    "</br>"
   ]
  },
  {
   "cell_type": "code",
   "execution_count": 13,
   "id": "34d1d6b4",
   "metadata": {},
   "outputs": [],
   "source": [
    "def des3_encrypt_ecb(data: str, key: str) -> str:\n",
    "    cipher = DES3.new(key, DES3.MODE_ECB)\n",
    "    cipher_bytes = cipher.encrypt(pad(data, DES3.block_size))\n",
    "    #init_vector = b64encode(cipher.iv).decode('utf-8')\n",
    "    cipher_text = b64encode(cipher_bytes).decode('utf-8')\n",
    "    #encrypted = dumps({'init_vector':init_vector, 'ciphertext':cipher_text})\n",
    "    return cipher_text\n",
    "\n",
    "def des3_decrypt_ecb(ciphertext, key):\n",
    "    cipher_text = b64decode(ciphertext)\n",
    "    cipher = DES3.new(key, DES3.MODE_ECB)\n",
    "    plaintext = unpad(cipher.decrypt(cipher_text), DES3.block_size)\n",
    "    return plaintext"
   ]
  },
  {
   "cell_type": "code",
   "execution_count": 15,
   "id": "6461179a",
   "metadata": {},
   "outputs": [
    {
     "data": {
      "text/plain": [
       "'X39smasl0iiLnMElIzhPvl+rYwaixWc9dilaOmEk46A='"
      ]
     },
     "execution_count": 15,
     "metadata": {},
     "output_type": "execute_result"
    }
   ],
   "source": [
    "encrypted_data = des3_encrypt_ecb(plaintext,key168)\n",
    "encrypted_data "
   ]
  },
  {
   "cell_type": "code",
   "execution_count": 18,
   "id": "7a93b9ce",
   "metadata": {},
   "outputs": [
    {
     "data": {
      "text/plain": [
       "b'Python is the Best Language!'"
      ]
     },
     "execution_count": 18,
     "metadata": {},
     "output_type": "execute_result"
    }
   ],
   "source": [
    "des3_decrypt_ecb(encrypted_data,key168)"
   ]
  }
 ],
 "metadata": {
  "kernelspec": {
   "display_name": "Python 3 (ipykernel)",
   "language": "python",
   "name": "python3"
  },
  "language_info": {
   "codemirror_mode": {
    "name": "ipython",
    "version": 3
   },
   "file_extension": ".py",
   "mimetype": "text/x-python",
   "name": "python",
   "nbconvert_exporter": "python",
   "pygments_lexer": "ipython3",
   "version": "3.9.12"
  }
 },
 "nbformat": 4,
 "nbformat_minor": 5
}
