{
 "cells": [
  {
   "cell_type": "code",
   "execution_count": 109,
   "id": "597b0f00",
   "metadata": {},
   "outputs": [],
   "source": [
    "import base64\n",
    "\n",
    "def base64_encode(message_bytes):\n",
    "    #message = \"Python is fun\"\n",
    "    #message_bytes = message.encode('ascii')#converts into bytes\n",
    "    base64_bytes = base64.b64encode(message_bytes)#base64 encoding\n",
    "    base64_message = base64_bytes.decode('utf-8')#bytes to ascii\n",
    "    return base64_message\n",
    "\n",
    "def base64_decode(string):\n",
    "    base64_message = string\n",
    "    base64_bytes = base64_message.encode('utf-8')\n",
    "    message_bytes = base64.b64decode(base64_bytes)#base64 decoding\n",
    "    #message = message_bytes.decode('ascii')\n",
    "    return message_bytes"
   ]
  },
  {
   "cell_type": "code",
   "execution_count": 111,
   "id": "9acfaaf9",
   "metadata": {},
   "outputs": [
    {
     "name": "stdout",
     "output_type": "stream",
     "text": [
      "UHl0aG9uIGlzIHRoZSBCZXN0IExhbmd1YWdlIQ==\n",
      "b'Python is the Best Language!'\n"
     ]
    }
   ],
   "source": [
    "#test\n",
    "text1 = b'Python is the Best Language!'\n",
    "enc = base64_encode(text1)\n",
    "print(enc)\n",
    "print(base64_decode(enc))"
   ]
  },
  {
   "cell_type": "markdown",
   "id": "e0a00ef9",
   "metadata": {},
   "source": [
    "<br>\n",
    "<h1 align = \"center\">Key and plaintext</h1>\n",
    "<br>"
   ]
  },
  {
   "cell_type": "code",
   "execution_count": 112,
   "id": "a22af254",
   "metadata": {},
   "outputs": [],
   "source": [
    "key = b'hello123'# or use bytes keyword or encode using str.encode('ascii')\n",
    "plaintext = b'Python is the Best Language!'"
   ]
  },
  {
   "cell_type": "markdown",
   "id": "e0f866ca",
   "metadata": {},
   "source": [
    "<h1 align = 'center'>DES - ECB</h1>"
   ]
  },
  {
   "cell_type": "code",
   "execution_count": 136,
   "id": "0067d13a",
   "metadata": {},
   "outputs": [
    {
     "name": "stdout",
     "output_type": "stream",
     "text": [
      "b'{\\x01^\\xfe\\xd5\\xd1\\x8fM\\x1a\\xcc\\xd5\\xbc\\x04\\x1c\\x0em$,\\xc1\\xc7w-H1\\xe9\\xf7.\\xc1o\\xc4\\x9f|'\n"
     ]
    }
   ],
   "source": [
    "from Crypto.Cipher import DES\n",
    "from Crypto.Util.Padding import pad, unpad\n",
    "\n",
    "# #padding to preserve block_size\n",
    "# def pad(text):\n",
    "#     n = len(text) % 8\n",
    "#     return text + (b' ' * n)\n",
    "\n",
    "des_ecb = DES.new(key, DES.MODE_ECB)#des_ecb represents cipher\n",
    "\n",
    "padded_text = pad(plaintext,DES.block_size)#for alignment to blocksize\n",
    "encrypted_text = des_ecb.encrypt(padded_text)#encryption\n",
    "\n",
    "print(encrypted_text)#encrypted byte data"
   ]
  },
  {
   "cell_type": "code",
   "execution_count": 137,
   "id": "66363fd2",
   "metadata": {},
   "outputs": [
    {
     "name": "stdout",
     "output_type": "stream",
     "text": [
      "ewFe/tXRj00azNW8BBwObSQswcd3LUgx6fcuwW/En3w=\n"
     ]
    }
   ],
   "source": [
    "res = base64_encode(encrypted_text)\n",
    "print(res)"
   ]
  },
  {
   "cell_type": "code",
   "execution_count": 138,
   "id": "5f2c317a",
   "metadata": {},
   "outputs": [
    {
     "name": "stdout",
     "output_type": "stream",
     "text": [
      "b'{\\x01^\\xfe\\xd5\\xd1\\x8fM\\x1a\\xcc\\xd5\\xbc\\x04\\x1c\\x0em$,\\xc1\\xc7w-H1\\xe9\\xf7.\\xc1o\\xc4\\x9f|'\n"
     ]
    }
   ],
   "source": [
    "out = base64_decode(res)\n",
    "print(out)"
   ]
  },
  {
   "cell_type": "code",
   "execution_count": 139,
   "id": "939b7be8",
   "metadata": {},
   "outputs": [],
   "source": [
    "# print(des_ecb.decrypt(encrypted_text))# decryption without base64"
   ]
  },
  {
   "cell_type": "code",
   "execution_count": 141,
   "id": "354e95c3",
   "metadata": {},
   "outputs": [
    {
     "name": "stdout",
     "output_type": "stream",
     "text": [
      "b'Python is the Best Language!'\n"
     ]
    }
   ],
   "source": [
    "print(unpad(des_ecb.decrypt(out),DES.block_size))#decrypting base-64 decoded data"
   ]
  },
  {
   "cell_type": "markdown",
   "id": "cf0578f9",
   "metadata": {},
   "source": [
    "<br>\n",
    "<h1 align='center'>DES - CBC</h1>\n",
    "<br>"
   ]
  },
  {
   "cell_type": "code",
   "execution_count": 133,
   "id": "c546de49",
   "metadata": {},
   "outputs": [],
   "source": [
    "from Crypto.Cipher import DES\n",
    "from Crypto.Util.Padding import pad, unpad\n",
    "from base64 import b64encode, b64decode\n",
    "from json import dumps, loads\n",
    "\n",
    "def des_encrypt(data: str, key: str) -> str:\n",
    "    cipher = DES.new(key, DES.MODE_CBC)\n",
    "    cipher_bytes = cipher.encrypt(pad(data, DES.block_size))\n",
    "    init_vector = b64encode(cipher.iv).decode('utf-8')\n",
    "    cipher_text = b64encode(cipher_bytes).decode('utf-8')\n",
    "    encrypted = dumps({'init_vector':init_vector, 'ciphertext':cipher_text})\n",
    "    return encrypted\n",
    "\n",
    "def des_decrypt(encrypted: str, key: str) -> str:\n",
    "    b64 = loads(encrypted)\n",
    "    init_vector = b64decode(b64['init_vector'])\n",
    "    cipher_text = b64decode(b64['ciphertext'])\n",
    "    cipher = DES.new(key, DES.MODE_CBC, init_vector)\n",
    "    plaintext = unpad(cipher.decrypt(cipher_text), DES.block_size)\n",
    "    return plaintext"
   ]
  },
  {
   "cell_type": "code",
   "execution_count": 134,
   "id": "dbd4d5ee",
   "metadata": {},
   "outputs": [
    {
     "data": {
      "text/plain": [
       "'{\"init_vector\": \"pQOf6tZvlrE=\", \"ciphertext\": \"N+9P7x6yPvQPq2u2FUndnFFZe1VBp3Zk/T2XZN0W5Vk=\"}'"
      ]
     },
     "execution_count": 134,
     "metadata": {},
     "output_type": "execute_result"
    }
   ],
   "source": [
    "encrypted = des_encrypt(plaintext,key)\n",
    "encrypted"
   ]
  },
  {
   "cell_type": "code",
   "execution_count": 135,
   "id": "3f1e3a36",
   "metadata": {},
   "outputs": [
    {
     "data": {
      "text/plain": [
       "b'Python is the Best Language!'"
      ]
     },
     "execution_count": 135,
     "metadata": {},
     "output_type": "execute_result"
    }
   ],
   "source": [
    "decrypted = des_decrypt(encrypted,key)\n",
    "decrypted"
   ]
  },
  {
   "cell_type": "code",
   "execution_count": 132,
   "id": "b55c7a72",
   "metadata": {},
   "outputs": [
    {
     "data": {
      "text/plain": [
       "'F1spJ1KVvab5StgW90rj1Ztydbdj07qEMLLIWu0ipKY='"
      ]
     },
     "execution_count": 132,
     "metadata": {},
     "output_type": "execute_result"
    }
   ],
   "source": [
    "# loads(encrypted)['ciphertext']"
   ]
  },
  {
   "cell_type": "code",
   "execution_count": null,
   "id": "d206e878",
   "metadata": {},
   "outputs": [],
   "source": []
  },
  {
   "cell_type": "code",
   "execution_count": 11,
   "id": "ea16e335",
   "metadata": {},
   "outputs": [],
   "source": [
    "from Crypto.Cipher import DES\n",
    "from Crypto.Util.Padding import pad, unpad\n",
    "from base64 import b64encode, b64decode\n",
    "from json import dumps, loads\n",
    "\n",
    "def des_encrypt_ecb(data: str, key: str) -> str:\n",
    "    cipher = DES.new(key, DES.MODE_ECB)\n",
    "    cipher_bytes = cipher.encrypt(pad(data, DES.block_size))\n",
    "    cipher_text = b64encode(cipher_bytes).decode('utf-8')\n",
    "    #encrypted = dumps({'init_vector':init_vector, 'ciphertext':cipher_text})\n",
    "    return cipher_text\n",
    "\n",
    "def des_decrypt_ecb(ciphertext, key):\n",
    "    cipher_text = b64decode(ciphertext)\n",
    "    cipher = DES.new(key, DES.MODE_ECB)\n",
    "    plaintext = unpad(cipher.decrypt(cipher_text), DES.block_size)\n",
    "    return plaintext"
   ]
  },
  {
   "cell_type": "code",
   "execution_count": 12,
   "id": "f0671d06",
   "metadata": {},
   "outputs": [],
   "source": [
    "key = b'hello123'# or use bytes keyword or encode using str.encode('ascii')\n",
    "plaintext = b'Python is the Best Language!'"
   ]
  },
  {
   "cell_type": "code",
   "execution_count": 13,
   "id": "d5c5a344",
   "metadata": {},
   "outputs": [
    {
     "data": {
      "text/plain": [
       "'ewFe/tXRj00azNW8BBwObSQswcd3LUgx6fcuwW/En3w='"
      ]
     },
     "execution_count": 13,
     "metadata": {},
     "output_type": "execute_result"
    }
   ],
   "source": [
    "en = des_encrypt_ecb(plaintext,key)\n",
    "en"
   ]
  },
  {
   "cell_type": "code",
   "execution_count": 14,
   "id": "e6837efd",
   "metadata": {},
   "outputs": [
    {
     "data": {
      "text/plain": [
       "b'Python is the Best Language!'"
      ]
     },
     "execution_count": 14,
     "metadata": {},
     "output_type": "execute_result"
    }
   ],
   "source": [
    "des_decrypt_ecb(en,key)"
   ]
  },
  {
   "cell_type": "code",
   "execution_count": null,
   "id": "bfcc50e7",
   "metadata": {},
   "outputs": [],
   "source": []
  }
 ],
 "metadata": {
  "kernelspec": {
   "display_name": "Python 3 (ipykernel)",
   "language": "python",
   "name": "python3"
  },
  "language_info": {
   "codemirror_mode": {
    "name": "ipython",
    "version": 3
   },
   "file_extension": ".py",
   "mimetype": "text/x-python",
   "name": "python",
   "nbconvert_exporter": "python",
   "pygments_lexer": "ipython3",
   "version": "3.9.12"
  }
 },
 "nbformat": 4,
 "nbformat_minor": 5
}
