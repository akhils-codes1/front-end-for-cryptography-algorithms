{
 "cells": [
  {
   "cell_type": "code",
   "execution_count": 1,
   "id": "597b0f00",
   "metadata": {},
   "outputs": [],
   "source": [
    "import base64\n",
    "\n",
    "def base64_encode(message_bytes):\n",
    "    #message = \"Python is fun\"\n",
    "    #message_bytes = message.encode('ascii')#converts into bytes\n",
    "    base64_bytes = base64.b64encode(message_bytes)#base64 encoding\n",
    "    base64_message = base64_bytes.decode('utf-8')#bytes to ascii\n",
    "    return base64_message\n",
    "\n",
    "def base64_decode(string):\n",
    "    base64_message = string\n",
    "    base64_bytes = base64_message.encode('utf-8')\n",
    "    message_bytes = base64.b64decode(base64_bytes)#base64 decoding\n",
    "    #message = message_bytes.decode('ascii')\n",
    "    return message_bytes"
   ]
  },
  {
   "cell_type": "code",
   "execution_count": 2,
   "id": "9acfaaf9",
   "metadata": {},
   "outputs": [
    {
     "name": "stdout",
     "output_type": "stream",
     "text": [
      "UHl0aG9uIGlzIHRoZSBCZXN0IExhbmd1YWdlIQ==\n",
      "b'Python is the Best Language!'\n"
     ]
    }
   ],
   "source": [
    "#test\n",
    "text1 = b'Python is the Best Language!'\n",
    "enc = base64_encode(text1)\n",
    "print(enc)\n",
    "print(base64_decode(enc))"
   ]
  },
  {
   "cell_type": "code",
   "execution_count": 10,
   "id": "f7a753b9",
   "metadata": {},
   "outputs": [],
   "source": [
    "text1 = b'Python is the Best Language!'"
   ]
  },
  {
   "cell_type": "code",
   "execution_count": 14,
   "id": "9ad05106",
   "metadata": {},
   "outputs": [
    {
     "data": {
      "text/plain": [
       "b'UHl0aG9uIGlzIHRoZSBCZXN0IExhbmd1YWdlIQ=='"
      ]
     },
     "execution_count": 14,
     "metadata": {},
     "output_type": "execute_result"
    }
   ],
   "source": [
    "temp = base64.b64encode(text1)\n",
    "temp"
   ]
  },
  {
   "cell_type": "code",
   "execution_count": 19,
   "id": "c41ef952",
   "metadata": {},
   "outputs": [
    {
     "data": {
      "text/plain": [
       "'UHl0aG9uIGlzIHRoZSBCZXN0IExhbmd1YWdlIQ=='"
      ]
     },
     "execution_count": 19,
     "metadata": {},
     "output_type": "execute_result"
    }
   ],
   "source": [
    "out = temp.decode('utf-8')\n",
    "out"
   ]
  },
  {
   "cell_type": "code",
   "execution_count": 21,
   "id": "dde8bbf0",
   "metadata": {},
   "outputs": [
    {
     "data": {
      "text/plain": [
       "b'UHl0aG9uIGlzIHRoZSBCZXN0IExhbmd1YWdlIQ=='"
      ]
     },
     "execution_count": 21,
     "metadata": {},
     "output_type": "execute_result"
    }
   ],
   "source": [
    "out.encode('utf-8')\n",
    "out"
   ]
  },
  {
   "cell_type": "code",
   "execution_count": 23,
   "id": "ae752983",
   "metadata": {},
   "outputs": [
    {
     "data": {
      "text/plain": [
       "'Python is the Best Language!'"
      ]
     },
     "execution_count": 23,
     "metadata": {},
     "output_type": "execute_result"
    }
   ],
   "source": [
    "out2 = base64.b64decode(out)\n",
    "out2.decode('utf-8')"
   ]
  },
  {
   "cell_type": "code",
   "execution_count": null,
   "id": "3c03a905",
   "metadata": {},
   "outputs": [],
   "source": []
  },
  {
   "cell_type": "markdown",
   "id": "e0a00ef9",
   "metadata": {},
   "source": [
    "<br>\n",
    "<h1 align = \"center\">Key and plaintext</h1>\n",
    "<br>"
   ]
  },
  {
   "cell_type": "code",
   "execution_count": 3,
   "id": "a22af254",
   "metadata": {},
   "outputs": [],
   "source": [
    "key = b'hello123'# or use bytes keyword or encode using str.encode('ascii')\n",
    "plaintext = b'Python is the Best Language!'"
   ]
  },
  {
   "cell_type": "markdown",
   "id": "e0f866ca",
   "metadata": {},
   "source": [
    "<h1 align = 'center'>DES - ECB</h1>"
   ]
  },
  {
   "cell_type": "code",
   "execution_count": 4,
   "id": "0067d13a",
   "metadata": {},
   "outputs": [
    {
     "name": "stdout",
     "output_type": "stream",
     "text": [
      "b'{\\x01^\\xfe\\xd5\\xd1\\x8fM\\x1a\\xcc\\xd5\\xbc\\x04\\x1c\\x0em$,\\xc1\\xc7w-H1\\xe9\\xf7.\\xc1o\\xc4\\x9f|'\n"
     ]
    }
   ],
   "source": [
    "from Crypto.Cipher import DES\n",
    "from Crypto.Util.Padding import pad, unpad\n",
    "\n",
    "# #padding to preserve block_size\n",
    "# def pad(text):\n",
    "#     n = len(text) % 8\n",
    "#     return text + (b' ' * n)\n",
    "\n",
    "des_ecb = DES.new(key, DES.MODE_ECB)#des_ecb represents cipher\n",
    "\n",
    "padded_text = pad(plaintext,DES.block_size)#for alignment to blocksize\n",
    "encrypted_text = des_ecb.encrypt(padded_text)#encryption\n",
    "\n",
    "print(encrypted_text)#encrypted byte data"
   ]
  },
  {
   "cell_type": "code",
   "execution_count": 5,
   "id": "66363fd2",
   "metadata": {},
   "outputs": [
    {
     "name": "stdout",
     "output_type": "stream",
     "text": [
      "ewFe/tXRj00azNW8BBwObSQswcd3LUgx6fcuwW/En3w=\n"
     ]
    }
   ],
   "source": [
    "res = base64_encode(encrypted_text)\n",
    "print(res)"
   ]
  },
  {
   "cell_type": "code",
   "execution_count": 6,
   "id": "5f2c317a",
   "metadata": {},
   "outputs": [
    {
     "name": "stdout",
     "output_type": "stream",
     "text": [
      "b'{\\x01^\\xfe\\xd5\\xd1\\x8fM\\x1a\\xcc\\xd5\\xbc\\x04\\x1c\\x0em$,\\xc1\\xc7w-H1\\xe9\\xf7.\\xc1o\\xc4\\x9f|'\n"
     ]
    }
   ],
   "source": [
    "out = base64_decode(res)\n",
    "print(out)"
   ]
  },
  {
   "cell_type": "code",
   "execution_count": 7,
   "id": "939b7be8",
   "metadata": {},
   "outputs": [],
   "source": [
    "# print(des_ecb.decrypt(encrypted_text))# decryption without base64"
   ]
  },
  {
   "cell_type": "code",
   "execution_count": 8,
   "id": "354e95c3",
   "metadata": {},
   "outputs": [
    {
     "name": "stdout",
     "output_type": "stream",
     "text": [
      "b'Python is the Best Language!'\n"
     ]
    }
   ],
   "source": [
    "print(unpad(des_ecb.decrypt(out),DES.block_size))#decrypting base-64 decoded data"
   ]
  },
  {
   "cell_type": "code",
   "execution_count": 31,
   "id": "6e812263",
   "metadata": {},
   "outputs": [
    {
     "name": "stdout",
     "output_type": "stream",
     "text": [
      "1  ===>  10111110\n",
      "2  ===>  01001100\n",
      "3  ===>  10100011\n",
      "4  ===>  00101010\n",
      "5  ===>  10100101\n",
      "6  ===>  11000001\n",
      "7  ===>  00111001\n",
      "8  ===>  10111101\n",
      "9  ===>  11100010\n",
      "10  ===>  11110111\n",
      "11  ===>  10010001\n",
      "12  ===>  11110011\n",
      "13  ===>  00100001\n",
      "14  ===>  10111010\n",
      "15  ===>  00110111\n",
      "16  ===>  10010110\n",
      "17  ===>  01101111\n",
      "18  ===>  11011001\n",
      "19  ===>  10110111\n",
      "20  ===>  01100010\n",
      "21  ===>  10111010\n",
      "22  ===>  01000110\n",
      "23  ===>  00101011\n",
      "24  ===>  11011001\n",
      "25  ===>  01101111\n",
      "26  ===>  11001111\n",
      "27  ===>  01110010\n",
      "28  ===>  11000110\n",
      "29  ===>  01010110\n",
      "30  ===>  11010111\n",
      "31  ===>  11100100\n",
      "32  ===>  00001100\n",
      "33  ===>  01101100\n",
      "34  ===>  10100011\n",
      "35  ===>  01011110\n",
      "36  ===>  00111110\n",
      "37  ===>  01001101\n",
      "38  ===>  11000011\n",
      "39  ===>  00100000\n",
      "40  ===>  00110101\n",
      "41  ===>  10111100\n",
      "42  ===>  11101100\n",
      "43  ===>  11110101\n",
      "44  ===>  10110011\n",
      "45  ===>  01101011\n",
      "46  ===>  10010111\n",
      "47  ===>  10001000\n",
      "48  ===>  10000000\n",
      "49  ===>  01010011\n",
      "50  ===>  00110011\n",
      "51  ===>  01000110\n",
      "52  ===>  11111100\n",
      "53  ===>  00111110\n",
      "54  ===>  00110001\n",
      "55  ===>  01010000\n",
      "56  ===>  01000000\n",
      "57  ===>  11000101\n",
      "58  ===>  11000010\n",
      "59  ===>  11011000\n",
      "60  ===>  10100000\n",
      "61  ===>  00110011\n",
      "62  ===>  11000101\n",
      "63  ===>  01111100\n",
      "64  ===>  00010011\n",
      "65  ===>  00001000\n",
      "66  ===>  00100011\n",
      "67  ===>  00000001\n",
      "68  ===>  01011100\n",
      "69  ===>  01011000\n",
      "70  ===>  10111010\n",
      "71  ===>  00001110\n",
      "72  ===>  00010100\n",
      "73  ===>  00000111\n",
      "74  ===>  00101100\n",
      "75  ===>  00100000\n",
      "76  ===>  11001110\n",
      "77  ===>  01001001\n",
      "78  ===>  10010100\n",
      "79  ===>  01000011\n",
      "80  ===>  00100010\n",
      "81  ===>  00100000\n",
      "82  ===>  11000000\n",
      "83  ===>  10000100\n",
      "84  ===>  11011001\n",
      "85  ===>  11101110\n",
      "86  ===>  11110010\n",
      "87  ===>  11110000\n",
      "88  ===>  11101100\n",
      "89  ===>  10000011\n",
      "90  ===>  10110010\n",
      "91  ===>  01101001\n",
      "92  ===>  00010010\n",
      "93  ===>  00000001\n",
      "94  ===>  01011100\n",
      "95  ===>  00011011\n",
      "96  ===>  01100001\n",
      "97  ===>  11001001\n",
      "98  ===>  01111010\n",
      "99  ===>  00111010\n",
      "100  ===>  11000011\n",
      "101  ===>  01100101\n",
      "102  ===>  01011100\n",
      "103  ===>  00100011\n",
      "104  ===>  10101100\n",
      "105  ===>  00010010\n",
      "106  ===>  01011101\n",
      "107  ===>  10101111\n",
      "108  ===>  10110011\n",
      "109  ===>  01101001\n",
      "110  ===>  00001001\n",
      "111  ===>  11110001\n",
      "112  ===>  01110111\n",
      "113  ===>  11111101\n",
      "114  ===>  00110011\n",
      "115  ===>  10111000\n",
      "116  ===>  10010111\n",
      "117  ===>  11001011\n",
      "118  ===>  00010011\n",
      "119  ===>  01001111\n",
      "120  ===>  01100001\n",
      "121  ===>  00100000\n",
      "122  ===>  00110000\n",
      "123  ===>  10100101\n",
      "124  ===>  00011010\n",
      "125  ===>  00100111\n",
      "126  ===>  10100101\n",
      "127  ===>  00111101\n",
      "128  ===>  01110100\n"
     ]
    }
   ],
   "source": [
    "from random import randint\n",
    "s = [str(randint(0,1)) for i in range(128*8)]\n",
    "s = \"\".join(s)\n",
    "s\n",
    "counter = 1\n",
    "t = []\n",
    "for i in range(128):\n",
    "    t+=[s[i*8:(i+1)*8]]\n",
    "    print(counter,\" ===> \" ,s[i*8:(i+1)*8])\n",
    "    counter+=1"
   ]
  },
  {
   "cell_type": "code",
   "execution_count": 40,
   "id": "f299010a",
   "metadata": {},
   "outputs": [
    {
     "data": {
      "text/plain": [
       "'10101101111101010110100101010110010001001111011100010000111101000000010000010100011111111100000010010001001100101011100000100100'"
      ]
     },
     "execution_count": 40,
     "metadata": {},
     "output_type": "execute_result"
    }
   ],
   "source": [
    "c0 = ''.join([t[i][0] for i in range(128)])\n",
    "c1 = ''.join([t[i][1] for i in range(128)])\n",
    "c2 = ''.join([t[i][2] for i in range(128)])\n",
    "c3 = ''.join([t[i][3] for i in range(128)])\n",
    "c4 = ''.join([t[i][4] for i in range(128)])\n",
    "c5 = ''.join([t[i][5] for i in range(128)])\n",
    "c6 = ''.join([t[i][6] for i in range(128)])\n",
    "c7 = ''.join([t[i][7] for i in range(128)])\n",
    "c0"
   ]
  },
  {
   "cell_type": "code",
   "execution_count": 41,
   "id": "945abf89",
   "metadata": {},
   "outputs": [
    {
     "name": "stdout",
     "output_type": "stream",
     "text": [
      "1  ===>  10101101\n",
      "2  ===>  11110101\n",
      "3  ===>  01101001\n",
      "4  ===>  01010110\n",
      "5  ===>  01000100\n",
      "6  ===>  11110111\n",
      "7  ===>  00010000\n",
      "8  ===>  11110100\n",
      "9  ===>  00000100\n",
      "10  ===>  00010100\n",
      "11  ===>  01111111\n",
      "12  ===>  11000000\n",
      "13  ===>  10010001\n",
      "14  ===>  00110010\n",
      "15  ===>  10111000\n",
      "16  ===>  00100100\n"
     ]
    },
    {
     "data": {
      "text/plain": [
       "['10101101',\n",
       " '11110101',\n",
       " '01101001',\n",
       " '01010110',\n",
       " '01000100',\n",
       " '11110111',\n",
       " '00010000',\n",
       " '11110100',\n",
       " '00000100',\n",
       " '00010100',\n",
       " '01111111',\n",
       " '11000000',\n",
       " '10010001',\n",
       " '00110010',\n",
       " '10111000',\n",
       " '00100100']"
      ]
     },
     "execution_count": 41,
     "metadata": {},
     "output_type": "execute_result"
    }
   ],
   "source": [
    "q = []\n",
    "counter = 1\n",
    "for i in range(16):\n",
    "    q+=[c0[i*8:(i+1)*8]]\n",
    "    print(counter,\" ===> \" ,c0[i*8:(i+1)*8])\n",
    "    counter+=1\n",
    "q"
   ]
  },
  {
   "cell_type": "code",
   "execution_count": 43,
   "id": "05a04975",
   "metadata": {},
   "outputs": [
    {
     "data": {
      "text/plain": [
       "['10101101',\n",
       " '11110101',\n",
       " '01101001',\n",
       " '01010110',\n",
       " '01000100',\n",
       " '11110111',\n",
       " '00010000',\n",
       " '11110100',\n",
       " '00000100',\n",
       " '00010100',\n",
       " '01111111',\n",
       " '11000000',\n",
       " '10010001',\n",
       " '00110010',\n",
       " '10111000',\n",
       " '00100100']"
      ]
     },
     "execution_count": 43,
     "metadata": {},
     "output_type": "execute_result"
    }
   ],
   "source": [
    "q"
   ]
  },
  {
   "cell_type": "code",
   "execution_count": null,
   "id": "b42639be",
   "metadata": {},
   "outputs": [],
   "source": []
  },
  {
   "cell_type": "markdown",
   "id": "cf0578f9",
   "metadata": {},
   "source": [
    "<br>\n",
    "<h1 align='center'>DES - CBC</h1>\n",
    "<br>"
   ]
  },
  {
   "cell_type": "code",
   "execution_count": null,
   "id": "501da5ee",
   "metadata": {},
   "outputs": [],
   "source": []
  },
  {
   "cell_type": "code",
   "execution_count": null,
   "id": "671551e0",
   "metadata": {},
   "outputs": [],
   "source": []
  },
  {
   "cell_type": "code",
   "execution_count": 133,
   "id": "c546de49",
   "metadata": {},
   "outputs": [],
   "source": [
    "from Crypto.Cipher import DES\n",
    "from Crypto.Util.Padding import pad, unpad\n",
    "from base64 import b64encode, b64decode\n",
    "from json import dumps, loads\n",
    "\n",
    "def des_encrypt(data: str, key: str) -> str:\n",
    "    cipher = DES.new(key, DES.MODE_CBC)\n",
    "    cipher_bytes = cipher.encrypt(pad(data, DES.block_size))\n",
    "    init_vector = b64encode(cipher.iv).decode('utf-8')\n",
    "    cipher_text = b64encode(cipher_bytes).decode('utf-8')\n",
    "    encrypted = dumps({'init_vector':init_vector, 'ciphertext':cipher_text})\n",
    "    return encrypted\n",
    "\n",
    "def des_decrypt(encrypted: str, key: str) -> str:\n",
    "    b64 = loads(encrypted)\n",
    "    init_vector = b64decode(b64['init_vector'])\n",
    "    cipher_text = b64decode(b64['ciphertext'])\n",
    "    cipher = DES.new(key, DES.MODE_CBC, init_vector)\n",
    "    plaintext = unpad(cipher.decrypt(cipher_text), DES.block_size)\n",
    "    return plaintext"
   ]
  },
  {
   "cell_type": "code",
   "execution_count": 134,
   "id": "dbd4d5ee",
   "metadata": {},
   "outputs": [
    {
     "data": {
      "text/plain": [
       "'{\"init_vector\": \"pQOf6tZvlrE=\", \"ciphertext\": \"N+9P7x6yPvQPq2u2FUndnFFZe1VBp3Zk/T2XZN0W5Vk=\"}'"
      ]
     },
     "execution_count": 134,
     "metadata": {},
     "output_type": "execute_result"
    }
   ],
   "source": [
    "encrypted = des_encrypt(plaintext,key)\n",
    "encrypted"
   ]
  },
  {
   "cell_type": "code",
   "execution_count": 135,
   "id": "3f1e3a36",
   "metadata": {},
   "outputs": [
    {
     "data": {
      "text/plain": [
       "b'Python is the Best Language!'"
      ]
     },
     "execution_count": 135,
     "metadata": {},
     "output_type": "execute_result"
    }
   ],
   "source": [
    "decrypted = des_decrypt(encrypted,key)\n",
    "decrypted"
   ]
  },
  {
   "cell_type": "code",
   "execution_count": 132,
   "id": "b55c7a72",
   "metadata": {},
   "outputs": [
    {
     "data": {
      "text/plain": [
       "'F1spJ1KVvab5StgW90rj1Ztydbdj07qEMLLIWu0ipKY='"
      ]
     },
     "execution_count": 132,
     "metadata": {},
     "output_type": "execute_result"
    }
   ],
   "source": [
    "# loads(encrypted)['ciphertext']"
   ]
  },
  {
   "cell_type": "code",
   "execution_count": null,
   "id": "d206e878",
   "metadata": {},
   "outputs": [],
   "source": []
  },
  {
   "cell_type": "code",
   "execution_count": 11,
   "id": "ea16e335",
   "metadata": {},
   "outputs": [],
   "source": [
    "from Crypto.Cipher import DES\n",
    "from Crypto.Util.Padding import pad, unpad\n",
    "from base64 import b64encode, b64decode\n",
    "from json import dumps, loads\n",
    "\n",
    "def des_encrypt_ecb(data: str, key: str) -> str:\n",
    "    cipher = DES.new(key, DES.MODE_ECB)\n",
    "    cipher_bytes = cipher.encrypt(pad(data, DES.block_size))\n",
    "    cipher_text = b64encode(cipher_bytes).decode('utf-8')\n",
    "    #encrypted = dumps({'init_vector':init_vector, 'ciphertext':cipher_text})\n",
    "    return cipher_text\n",
    "\n",
    "def des_decrypt_ecb(ciphertext, key):\n",
    "    cipher_text = b64decode(ciphertext)\n",
    "    cipher = DES.new(key, DES.MODE_ECB)\n",
    "    plaintext = unpad(cipher.decrypt(cipher_text), DES.block_size)\n",
    "    return plaintext"
   ]
  },
  {
   "cell_type": "code",
   "execution_count": 12,
   "id": "f0671d06",
   "metadata": {},
   "outputs": [],
   "source": [
    "key = b'hello123'# or use bytes keyword or encode using str.encode('ascii')\n",
    "plaintext = b'Python is the Best Language!'"
   ]
  },
  {
   "cell_type": "code",
   "execution_count": 13,
   "id": "d5c5a344",
   "metadata": {},
   "outputs": [
    {
     "data": {
      "text/plain": [
       "'ewFe/tXRj00azNW8BBwObSQswcd3LUgx6fcuwW/En3w='"
      ]
     },
     "execution_count": 13,
     "metadata": {},
     "output_type": "execute_result"
    }
   ],
   "source": [
    "en = des_encrypt_ecb(plaintext,key)\n",
    "en"
   ]
  },
  {
   "cell_type": "code",
   "execution_count": 14,
   "id": "e6837efd",
   "metadata": {},
   "outputs": [
    {
     "data": {
      "text/plain": [
       "b'Python is the Best Language!'"
      ]
     },
     "execution_count": 14,
     "metadata": {},
     "output_type": "execute_result"
    }
   ],
   "source": [
    "des_decrypt_ecb(en,key)"
   ]
  },
  {
   "cell_type": "code",
   "execution_count": null,
   "id": "bfcc50e7",
   "metadata": {},
   "outputs": [],
   "source": []
  }
 ],
 "metadata": {
  "kernelspec": {
   "display_name": "Python 3 (ipykernel)",
   "language": "python",
   "name": "python3"
  },
  "language_info": {
   "codemirror_mode": {
    "name": "ipython",
    "version": 3
   },
   "file_extension": ".py",
   "mimetype": "text/x-python",
   "name": "python",
   "nbconvert_exporter": "python",
   "pygments_lexer": "ipython3",
   "version": "3.9.12"
  }
 },
 "nbformat": 4,
 "nbformat_minor": 5
}
