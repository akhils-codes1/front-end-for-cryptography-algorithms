{
 "cells": [
  {
   "cell_type": "markdown",
   "id": "caac07ac",
   "metadata": {},
   "source": [
    "<br>\n",
    "<h1 align = \"center\">Blowfish CBC</h1>\n",
    "<br>"
   ]
  },
  {
   "cell_type": "code",
   "execution_count": 1,
   "id": "baadec1e",
   "metadata": {},
   "outputs": [],
   "source": [
    "from Crypto.Cipher import Blowfish\n",
    "from Crypto.Util.Padding import pad, unpad\n",
    "from base64 import b64encode, b64decode\n",
    "from json import dumps, loads\n",
    "\n",
    "def blowfish_encrypt(data: str, key: str) -> str:\n",
    "    cipher = Blowfish.new(key, Blowfish.MODE_CBC)\n",
    "    cipher_bytes = cipher.encrypt(pad(data, Blowfish.block_size))\n",
    "    init_vector = b64encode(cipher.iv).decode('utf-8')\n",
    "    cipher_text = b64encode(cipher_bytes).decode('utf-8')\n",
    "    #encrypted = dumps({'init_vector':init_vector, 'ciphertext':cipher_text})\n",
    "    encrypted = (init_vector, cipher_text)\n",
    "    return encrypted\n",
    "\n",
    "def blowfish_decrypt(encrypted: list, key: str):\n",
    "    #b64 = loads(encrypted)\n",
    "    init_vector = b64decode(encrypted[0])\n",
    "    cipher_text = b64decode(encrypted[1])\n",
    "    cipher = Blowfish.new(key, Blowfish.MODE_CBC, init_vector)\n",
    "    plaintext = unpad(cipher.decrypt(cipher_text), Blowfish.block_size)\n",
    "    return plaintext"
   ]
  },
  {
   "cell_type": "code",
   "execution_count": 2,
   "id": "371f1e11",
   "metadata": {},
   "outputs": [],
   "source": [
    "from Crypto.Random import get_random_bytes\n",
    "key192 = get_random_bytes(24)\n",
    "plaintext = b'Python is the Best Language!'"
   ]
  },
  {
   "cell_type": "code",
   "execution_count": 3,
   "id": "96dfdf83",
   "metadata": {},
   "outputs": [
    {
     "name": "stdout",
     "output_type": "stream",
     "text": [
      "('Mlf8hF4GX2E=', 'ogB104hAIta4ESDSaqGKQDyGqaMOHVuu6mlHdLyusxo=')\n"
     ]
    }
   ],
   "source": [
    "en = blowfish_encrypt(plaintext, key192)\n",
    "print(en)"
   ]
  },
  {
   "cell_type": "code",
   "execution_count": 4,
   "id": "b070d343",
   "metadata": {},
   "outputs": [
    {
     "name": "stdout",
     "output_type": "stream",
     "text": [
      "b'Python is the Best Language!'\n"
     ]
    }
   ],
   "source": [
    "de = blowfish_decrypt(en, key192)\n",
    "print(de)"
   ]
  },
  {
   "cell_type": "markdown",
   "id": "0b003979",
   "metadata": {},
   "source": [
    "<br>\n",
    "<h1 align = \"center\">Blowfish ECB</h1>\n",
    "<br>"
   ]
  },
  {
   "cell_type": "code",
   "execution_count": 5,
   "id": "cbe56cc5",
   "metadata": {},
   "outputs": [],
   "source": [
    "from Crypto.Cipher import Blowfish\n",
    "from Crypto.Util.Padding import pad, unpad\n",
    "from base64 import b64encode, b64decode\n",
    "from json import dumps, loads\n",
    "\n",
    "def blowfish_encrypt(data: str, key: str) -> str:\n",
    "    cipher = Blowfish.new(key, Blowfish.MODE_ECB)\n",
    "    cipher_bytes = cipher.encrypt(pad(data, Blowfish.block_size))\n",
    "    #init_vector = b64encode(cipher.iv).decode('utf-8')\n",
    "    cipher_text = b64encode(cipher_bytes).decode('utf-8')\n",
    "    #encrypted = dumps({'init_vector':init_vector, 'ciphertext':cipher_text})\n",
    "    return cipher_text\n",
    "\n",
    "def blowfish_decrypt(ciphertext, key):\n",
    "    cipher_text = b64decode(ciphertext)\n",
    "    cipher = Blowfish.new(key, Blowfish.MODE_ECB)\n",
    "    plaintext = unpad(cipher.decrypt(cipher_text), Blowfish.block_size)\n",
    "    return plaintext"
   ]
  },
  {
   "cell_type": "code",
   "execution_count": 6,
   "id": "d488d302",
   "metadata": {},
   "outputs": [],
   "source": [
    "from Crypto.Random import get_random_bytes\n",
    "key192 = get_random_bytes(24)\n",
    "plaintext = b'Python is the Best Language!'"
   ]
  },
  {
   "cell_type": "code",
   "execution_count": 7,
   "id": "26cbb059",
   "metadata": {},
   "outputs": [
    {
     "name": "stdout",
     "output_type": "stream",
     "text": [
      "yglgM4QtYCYtclJw3If5WA897aU67HGBGguqe7SOiCs=\n"
     ]
    }
   ],
   "source": [
    "en = blowfish_encrypt(plaintext, key192)\n",
    "print(en)"
   ]
  },
  {
   "cell_type": "code",
   "execution_count": 8,
   "id": "70ffa8a0",
   "metadata": {},
   "outputs": [
    {
     "name": "stdout",
     "output_type": "stream",
     "text": [
      "b'Python is the Best Language!'\n"
     ]
    }
   ],
   "source": [
    "de = blowfish_decrypt(en, key192)\n",
    "print(de)"
   ]
  },
  {
   "cell_type": "code",
   "execution_count": 9,
   "id": "c1eb74f0",
   "metadata": {},
   "outputs": [],
   "source": [
    "plaintext = b'Python is the Best Language!'"
   ]
  },
  {
   "cell_type": "code",
   "execution_count": 10,
   "id": "30c7d62f",
   "metadata": {},
   "outputs": [
    {
     "data": {
      "text/plain": [
       "True"
      ]
     },
     "execution_count": 10,
     "metadata": {},
     "output_type": "execute_result"
    }
   ],
   "source": [
    "plaintext == 'Python is the Best Language!'.encode('ascii')"
   ]
  }
 ],
 "metadata": {
  "kernelspec": {
   "display_name": "Python 3 (ipykernel)",
   "language": "python",
   "name": "python3"
  },
  "language_info": {
   "codemirror_mode": {
    "name": "ipython",
    "version": 3
   },
   "file_extension": ".py",
   "mimetype": "text/x-python",
   "name": "python",
   "nbconvert_exporter": "python",
   "pygments_lexer": "ipython3",
   "version": "3.9.12"
  }
 },
 "nbformat": 4,
 "nbformat_minor": 5
}
