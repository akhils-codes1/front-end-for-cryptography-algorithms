{
 "cells": [
  {
   "cell_type": "markdown",
   "id": "a7f4527d",
   "metadata": {},
   "source": [
    "<br>\n",
    "<h1 align = \"center\">AES CBC</h1>\n",
    "<br>"
   ]
  },
  {
   "cell_type": "code",
   "execution_count": 15,
   "id": "2c91b520",
   "metadata": {},
   "outputs": [],
   "source": [
    "from Crypto.Cipher import AES\n",
    "from Crypto.Util.Padding import pad, unpad\n",
    "from base64 import b64encode, b64decode\n",
    "from json import dumps, loads\n",
    "\n",
    "def aes_encrypt(data: str, key: str) -> str:\n",
    "    cipher = AES.new(key, AES.MODE_CBC)\n",
    "    cipher_bytes = cipher.encrypt(pad(data, AES.block_size))\n",
    "    init_vector = b64encode(cipher.iv).decode('utf-8')\n",
    "    cipher_text = b64encode(cipher_bytes).decode('utf-8')\n",
    "    encrypted = (init_vector, cipher_text)\n",
    "    #encrypted = dumps({'init_vector':init_vector, 'ciphertext':cipher_text})\n",
    "    return encrypted\n",
    "\n",
    "def aes_decrypt(encrypted: list, key: str):\n",
    "    #b64 = loads(encrypted)\n",
    "    init_vector = b64decode(encrypted[0])\n",
    "    cipher_text = b64decode(encrypted[1])\n",
    "    cipher = AES.new(key, AES.MODE_CBC, init_vector)\n",
    "    plaintext = unpad(cipher.decrypt(cipher_text), AES.block_size)\n",
    "    return plaintext"
   ]
  },
  {
   "cell_type": "code",
   "execution_count": 16,
   "id": "167243bf",
   "metadata": {},
   "outputs": [],
   "source": [
    "from Crypto.Random import get_random_bytes\n",
    "key128 = get_random_bytes(16)\n",
    "plaintext = b'Python is the Best Language!'"
   ]
  },
  {
   "cell_type": "code",
   "execution_count": 17,
   "id": "d4a75fa3",
   "metadata": {},
   "outputs": [
    {
     "name": "stdout",
     "output_type": "stream",
     "text": [
      "('S5qMtchHfUOH+9Ak4mUWQQ==', '3ZV7ww00eIegTHnG0qgJp1oyfPZQOg1U5m50ehHSVuA=')\n"
     ]
    }
   ],
   "source": [
    "aes_enc_128 = aes_encrypt(plaintext, key128)\n",
    "print(aes_enc_128)"
   ]
  },
  {
   "cell_type": "code",
   "execution_count": 18,
   "id": "0c6a3bcb",
   "metadata": {},
   "outputs": [
    {
     "name": "stdout",
     "output_type": "stream",
     "text": [
      "b'Python is the Best Language!'\n"
     ]
    }
   ],
   "source": [
    "aes_dec_128 = aes_decrypt(aes_enc_128, key128)\n",
    "print(aes_dec_128)"
   ]
  },
  {
   "cell_type": "markdown",
   "id": "9a6cb8b2",
   "metadata": {},
   "source": [
    "<br>\n",
    "<h1 align = \"center\">AES ECB</h1>\n",
    "<br>"
   ]
  },
  {
   "cell_type": "code",
   "execution_count": 19,
   "id": "285d862d",
   "metadata": {},
   "outputs": [],
   "source": [
    "from Crypto.Cipher import AES\n",
    "from Crypto.Util.Padding import pad, unpad\n",
    "from base64 import b64encode, b64decode\n",
    "from json import dumps, loads\n",
    "\n",
    "def aes_encrypt(data: str, key: str) -> str:\n",
    "    cipher = AES.new(key, AES.MODE_ECB)\n",
    "    cipher_bytes = cipher.encrypt(pad(data, AES.block_size))\n",
    "    #init_vector = b64encode(cipher.iv).decode('utf-8')\n",
    "    cipher_text = b64encode(cipher_bytes).decode('utf-8')\n",
    "    #encrypted = dumps({'init_vector':init_vector, 'ciphertext':cipher_text})\n",
    "    return cipher_text\n",
    "\n",
    "def aes_decrypt(ciphertext, key):\n",
    "    #init_vector = b64decode(b64['init_vector'])\n",
    "    cipher_text = b64decode(ciphertext)\n",
    "    cipher = AES.new(key, AES.MODE_ECB)\n",
    "    plaintext = unpad(cipher.decrypt(cipher_text), AES.block_size)\n",
    "    return plaintext"
   ]
  },
  {
   "cell_type": "code",
   "execution_count": 20,
   "id": "38449e57",
   "metadata": {},
   "outputs": [],
   "source": [
    "from Crypto.Random import get_random_bytes\n",
    "key128 = get_random_bytes(16)\n",
    "plaintext = b'Python is the Best Language!'"
   ]
  },
  {
   "cell_type": "code",
   "execution_count": 21,
   "id": "e3d3de1b",
   "metadata": {},
   "outputs": [
    {
     "name": "stdout",
     "output_type": "stream",
     "text": [
      "Lqgd0YWIlHW7mv2vCW7SsMQ1Op0WOlQy17m/57xt/8g=\n"
     ]
    }
   ],
   "source": [
    "aes_enc_128 = aes_encrypt(plaintext, key128)\n",
    "print(aes_enc_128)"
   ]
  },
  {
   "cell_type": "code",
   "execution_count": 22,
   "id": "bc62a5a6",
   "metadata": {},
   "outputs": [
    {
     "name": "stdout",
     "output_type": "stream",
     "text": [
      "b'Python is the Best Language!'\n"
     ]
    }
   ],
   "source": [
    "aes_dec_128 = aes_decrypt(aes_enc_128, key128)\n",
    "print(aes_dec_128)"
   ]
  }
 ],
 "metadata": {
  "kernelspec": {
   "display_name": "Python 3 (ipykernel)",
   "language": "python",
   "name": "python3"
  },
  "language_info": {
   "codemirror_mode": {
    "name": "ipython",
    "version": 3
   },
   "file_extension": ".py",
   "mimetype": "text/x-python",
   "name": "python",
   "nbconvert_exporter": "python",
   "pygments_lexer": "ipython3",
   "version": "3.9.12"
  }
 },
 "nbformat": 4,
 "nbformat_minor": 5
}
